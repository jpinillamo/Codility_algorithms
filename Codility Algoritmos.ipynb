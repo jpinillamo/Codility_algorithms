{
 "cells": [
  {
   "cell_type": "markdown",
   "metadata": {},
   "source": [
    "# Codility Lessons"
   ]
  },
  {
   "cell_type": "code",
   "execution_count": 9,
   "metadata": {},
   "outputs": [
    {
     "name": "stdout",
     "output_type": "stream",
     "text": [
      "10000010001\n"
     ]
    },
    {
     "data": {
      "text/plain": [
       "5"
      ]
     },
     "execution_count": 9,
     "metadata": {},
     "output_type": "execute_result"
    }
   ],
   "source": [
    "def solution(N):\n",
    "    # Implement your solution here\n",
    "    lugares = []\n",
    "    aux = []\n",
    "    binary = bin(N)[2:]\n",
    "    print(binary)\n",
    "    final=0\n",
    "    #print('binario -->',binary)\n",
    "    for i in range(len(binary)):\n",
    "        if binary[i]=='1' :\n",
    "            lugares.append(i)\n",
    "    #print('Lugares -->',lugares)\n",
    "    for i in range(len(lugares)-1):\n",
    "        if i == len(lugares):\n",
    "            break\n",
    "        else:\n",
    "            aux.append(lugares[i+1]-lugares[i])\n",
    "    #print(aux)\n",
    "    if len(aux)==0:\n",
    "        final = 0\n",
    "    elif max(aux) == 1:\n",
    "        final = 0\n",
    "    else: final=max(aux)-1\n",
    "    return final\n",
    "\n",
    "#solution(9)\n",
    "solution(1041)"
   ]
  },
  {
   "cell_type": "code",
   "execution_count": 2,
   "metadata": {},
   "outputs": [],
   "source": [
    "import numpy as np"
   ]
  },
  {
   "cell_type": "code",
   "execution_count": 10,
   "metadata": {},
   "outputs": [
    {
     "name": "stdout",
     "output_type": "stream",
     "text": [
      "57169305\n",
      "11011010000101010110011001\n",
      "4\n",
      "1604726947\n",
      "1011111101001100011000010100011\n",
      "4\n",
      "1932256592\n",
      "1110011001010111110010101010000\n",
      "2\n",
      "290154300\n",
      "10001010010110110011100111100\n",
      "3\n",
      "753560811\n",
      "101100111010100110110011101011\n",
      "2\n",
      "345869738\n",
      "10100100111011000110110101010\n",
      "3\n",
      "1037036530\n",
      "111101110011111110101111110010\n",
      "2\n",
      "1702201763\n",
      "1100101011101011000100110100011\n",
      "3\n",
      "1930338675\n",
      "1110011000011101010000101110011\n",
      "4\n",
      "269418601\n",
      "10000000011110000000001101001\n",
      "9\n"
     ]
    }
   ],
   "source": [
    "contador =0\n",
    "\n",
    "while contador<10:\n",
    "    contador+=1\n",
    "    aux = np.random.randint(1,2147483647)\n",
    "    \n",
    "    print(aux)\n",
    "    aux2 = bin(aux)\n",
    "    print(solution(aux))\n"
   ]
  },
  {
   "cell_type": "code",
   "execution_count": 67,
   "metadata": {},
   "outputs": [
    {
     "ename": "TypeError",
     "evalue": "'str' object is not callable",
     "output_type": "error",
     "traceback": [
      "\u001b[1;31m---------------------------------------------------------------------------\u001b[0m",
      "\u001b[1;31mTypeError\u001b[0m                                 Traceback (most recent call last)",
      "Cell \u001b[1;32mIn[67], line 1\u001b[0m\n\u001b[1;32m----> 1\u001b[0m \u001b[38;5;28;43mbin\u001b[39;49m\u001b[43m(\u001b[49m\u001b[38;5;241;43m4\u001b[39;49m\u001b[43m)\u001b[49m\n",
      "\u001b[1;31mTypeError\u001b[0m: 'str' object is not callable"
     ]
    }
   ],
   "source": [
    "bin(4)"
   ]
  },
  {
   "cell_type": "code",
   "execution_count": 41,
   "metadata": {},
   "outputs": [
    {
     "data": {
      "text/plain": [
       "0"
      ]
     },
     "execution_count": 41,
     "metadata": {},
     "output_type": "execute_result"
    }
   ],
   "source": [
    "lista = []\n",
    "len(lista)\n",
    "#max(lista)"
   ]
  },
  {
   "cell_type": "markdown",
   "metadata": {},
   "source": [
    "# Algoritmo 2"
   ]
  },
  {
   "cell_type": "code",
   "execution_count": 20,
   "metadata": {},
   "outputs": [
    {
     "data": {
      "text/plain": [
       "[]"
      ]
     },
     "execution_count": 20,
     "metadata": {},
     "output_type": "execute_result"
    }
   ],
   "source": [
    "def solution(A, K):\n",
    "    contador=0\n",
    "    while contador < K:\n",
    "        contador+=1\n",
    "        if len(A)==0:\n",
    "            break\n",
    "        else: \n",
    "            aux=A[-1]\n",
    "            A.pop(-1)\n",
    "            A.insert(0,aux)\n",
    "    return A\n",
    "\n",
    "\n",
    "solution([],3)\n",
    "#[3,4,5,1,2]"
   ]
  },
  {
   "cell_type": "markdown",
   "metadata": {},
   "source": [
    "# Algoritmo 3"
   ]
  },
  {
   "cell_type": "code",
   "execution_count": 38,
   "metadata": {},
   "outputs": [
    {
     "data": {
      "text/plain": [
       "7"
      ]
     },
     "execution_count": 38,
     "metadata": {},
     "output_type": "execute_result"
    }
   ],
   "source": [
    "def solution(A):\n",
    "    # Implement your solution here\n",
    "    for i in set(A):\n",
    "        if A.count(i) ==1:\n",
    "            aux=i\n",
    "    return aux\n",
    "solution([9, 3, 9, 3, 9, 7, 9])"
   ]
  },
  {
   "cell_type": "code",
   "execution_count": 46,
   "metadata": {},
   "outputs": [
    {
     "name": "stdout",
     "output_type": "stream",
     "text": [
      "None\n",
      "i 0\n",
      "3 3\n",
      "i 2\n",
      "7 9\n",
      "7\n"
     ]
    },
    {
     "data": {
      "text/plain": [
       "7"
      ]
     },
     "execution_count": 46,
     "metadata": {},
     "output_type": "execute_result"
    }
   ],
   "source": [
    "def solution(A):\n",
    "    A.sort()\n",
    "    print(A.sort())\n",
    "    A.append(-1) #Just to make list even and run till last but not match with existing integers\n",
    "    for i in range(0,len(A),2):\n",
    "        print('i',i)\n",
    "        print(A[i],A[i+1])\n",
    "        if A[i]!=A[i+1]:\n",
    "            print(A[i])\n",
    "            return A[i]\n",
    "solution([9, 3, 9, 3, 9, 7, 9])"
   ]
  },
  {
   "cell_type": "code",
   "execution_count": 54,
   "metadata": {},
   "outputs": [
    {
     "name": "stdout",
     "output_type": "stream",
     "text": [
      "{'8': 0, '4': 1, '5': 2, '9': 3, '7': 4, '6': 5, '1': 6, '2': 7, '0': 8, '3': 9}\n",
      "2\n",
      "1\n",
      "9\n",
      "3\n",
      "17\n"
     ]
    }
   ],
   "source": [
    "#take the inputs\n",
    "\n",
    "digits='8459761203'\n",
    "num='5439'\n",
    "\n",
    "#create a dictionary to set the digit and index\n",
    "\n",
    "digitDict={}\n",
    "for i in range(len(digits)):\n",
    "   digitDict[digits[i]]=i\n",
    "print(digitDict)\n",
    "ans=0\n",
    "index=0\n",
    "for digit in num:\n",
    "\n",
    "   targetIndex=digitDict[digit]\n",
    "   print(targetIndex)\n",
    "\n",
    "   ans+=abs(index-targetIndex)\n",
    "   index=targetIndex\n",
    "\n",
    "print(ans)"
   ]
  },
  {
   "cell_type": "code",
   "execution_count": 79,
   "metadata": {},
   "outputs": [
    {
     "data": {
      "text/plain": [
       "['--..', '.--.', '..--']"
      ]
     },
     "execution_count": 79,
     "metadata": {},
     "output_type": "execute_result"
    }
   ],
   "source": [
    "def solution(a):\n",
    "    lista = []\n",
    "    for i in range(len(a)-1):\n",
    "        if a[i] == a[i+1] and a[i] =='.':\n",
    "            #print(i)\n",
    "            lista.append(a[:i]+ '--' + a[i+2:])\n",
    "            #print(a[:i]+ '--' + a[i+2:])\n",
    "    return lista\n",
    "    \n",
    "solution('....')"
   ]
  },
  {
   "cell_type": "markdown",
   "metadata": {},
   "source": [
    "# Algoritmo 4"
   ]
  },
  {
   "cell_type": "code",
   "execution_count": null,
   "metadata": {},
   "outputs": [],
   "source": []
  }
 ],
 "metadata": {
  "kernelspec": {
   "display_name": "Python 3",
   "language": "python",
   "name": "python3"
  },
  "language_info": {
   "codemirror_mode": {
    "name": "ipython",
    "version": 3
   },
   "file_extension": ".py",
   "mimetype": "text/x-python",
   "name": "python",
   "nbconvert_exporter": "python",
   "pygments_lexer": "ipython3",
   "version": "3.11.1"
  }
 },
 "nbformat": 4,
 "nbformat_minor": 2
}
