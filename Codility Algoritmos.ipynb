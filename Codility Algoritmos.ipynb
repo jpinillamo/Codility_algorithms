{
 "cells": [
  {
   "cell_type": "markdown",
   "metadata": {},
   "source": [
    "# Codility Lessons"
   ]
  },
  {
   "cell_type": "code",
   "execution_count": 11,
   "metadata": {},
   "outputs": [],
   "source": [
    "import numpy as np"
   ]
  },
  {
   "cell_type": "markdown",
   "metadata": {},
   "source": [
    "# Lesson 1 Iterations"
   ]
  },
  {
   "cell_type": "markdown",
   "metadata": {},
   "source": [
    "## binary gap"
   ]
  },
  {
   "cell_type": "code",
   "execution_count": 2,
   "metadata": {},
   "outputs": [
    {
     "name": "stdout",
     "output_type": "stream",
     "text": [
      "10000010001\n"
     ]
    },
    {
     "data": {
      "text/plain": [
       "5"
      ]
     },
     "execution_count": 2,
     "metadata": {},
     "output_type": "execute_result"
    }
   ],
   "source": [
    "def solution(N):\n",
    "    # Implement your solution here\n",
    "    lugares = []\n",
    "    aux = []\n",
    "    binary = bin(N)[2:]\n",
    "    print(binary)\n",
    "    final=0\n",
    "    #print('binario -->',binary)\n",
    "    for i in range(len(binary)):\n",
    "        if binary[i]=='1' :\n",
    "            lugares.append(i)\n",
    "    #print('Lugares -->',lugares)\n",
    "    for i in range(len(lugares)-1):\n",
    "        if i == len(lugares):\n",
    "            break\n",
    "        else:\n",
    "            aux.append(lugares[i+1]-lugares[i])\n",
    "    #print(aux)\n",
    "    if len(aux)==0:\n",
    "        final = 0\n",
    "    elif max(aux) == 1:\n",
    "        final = 0\n",
    "    else: final=max(aux)-1\n",
    "    return final\n",
    "\n",
    "#solution(9)\n",
    "solution(1041)"
   ]
  },
  {
   "cell_type": "code",
   "execution_count": 3,
   "metadata": {},
   "outputs": [
    {
     "name": "stdout",
     "output_type": "stream",
     "text": [
      "230124874\n",
      "1101101101110110110101001010\n",
      "2\n",
      "305449262\n",
      "10010001101001100100100101110\n",
      "3\n",
      "931215671\n",
      "110111100000010011100100110111\n",
      "6\n",
      "807952518\n",
      "110000001010000110000010000110\n",
      "6\n",
      "1418878182\n",
      "1010100100100100101110011100110\n",
      "2\n",
      "1341293578\n",
      "1001111111100101000010000001010\n",
      "6\n",
      "1180623489\n",
      "1000110010111101110001010000001\n",
      "6\n",
      "772193596\n",
      "101110000001101011110100111100\n",
      "6\n",
      "1670888784\n",
      "1100011100101111011110101010000\n",
      "3\n",
      "2089441522\n",
      "1111100100010100101100011110010\n",
      "3\n"
     ]
    }
   ],
   "source": [
    "contador =0\n",
    "\n",
    "while contador<10:\n",
    "    contador+=1\n",
    "    aux = np.random.randint(1,2147483647)\n",
    "    \n",
    "    print(aux)\n",
    "    aux2 = bin(aux)\n",
    "    print(solution(aux))\n"
   ]
  },
  {
   "cell_type": "markdown",
   "metadata": {},
   "source": [
    "# Lesson 2 Arrays"
   ]
  },
  {
   "cell_type": "markdown",
   "metadata": {},
   "source": [
    "## Cyclic Rotation"
   ]
  },
  {
   "cell_type": "code",
   "execution_count": 6,
   "metadata": {},
   "outputs": [
    {
     "data": {
      "text/plain": [
       "[]"
      ]
     },
     "execution_count": 6,
     "metadata": {},
     "output_type": "execute_result"
    }
   ],
   "source": [
    "def solution(A, K):\n",
    "    contador=0\n",
    "    while contador < K:\n",
    "        contador+=1\n",
    "        if len(A)==0:\n",
    "            break\n",
    "        else: \n",
    "            aux=A[-1]\n",
    "            A.pop(-1)\n",
    "            A.insert(0,aux)\n",
    "    return A\n",
    "\n",
    "\n",
    "solution([],3)\n",
    "#[3,4,5,1,2]"
   ]
  },
  {
   "cell_type": "markdown",
   "metadata": {},
   "source": [
    "## OddOccurrencesInArray"
   ]
  },
  {
   "cell_type": "markdown",
   "metadata": {},
   "source": [
    "### My solution"
   ]
  },
  {
   "cell_type": "code",
   "execution_count": 1,
   "metadata": {},
   "outputs": [
    {
     "data": {
      "text/plain": [
       "7"
      ]
     },
     "execution_count": 1,
     "metadata": {},
     "output_type": "execute_result"
    }
   ],
   "source": [
    "def solution(A):\n",
    "    # Implement your solution here\n",
    "    for i in set(A):\n",
    "        if A.count(i) ==1:\n",
    "            aux=i\n",
    "    return aux\n",
    "solution([9, 3, 9, 3, 9, 7, 9])"
   ]
  },
  {
   "cell_type": "markdown",
   "metadata": {},
   "source": [
    "### Best solution"
   ]
  },
  {
   "cell_type": "code",
   "execution_count": 2,
   "metadata": {},
   "outputs": [
    {
     "name": "stdout",
     "output_type": "stream",
     "text": [
      "None\n",
      "i 0\n",
      "3 3\n",
      "i 2\n",
      "7 9\n",
      "7\n"
     ]
    },
    {
     "data": {
      "text/plain": [
       "7"
      ]
     },
     "execution_count": 2,
     "metadata": {},
     "output_type": "execute_result"
    }
   ],
   "source": [
    "def solution(A):\n",
    "    A.sort()\n",
    "    print(A.sort())\n",
    "    A.append(-1) #Just to make list even and run till last but not match with existing integers\n",
    "    for i in range(0,len(A),2):\n",
    "        print('i',i)\n",
    "        print(A[i],A[i+1])\n",
    "        if A[i]!=A[i+1]:\n",
    "            print(A[i])\n",
    "            return A[i]\n",
    "solution([9, 3, 9, 3, 9, 7, 9])"
   ]
  },
  {
   "cell_type": "code",
   "execution_count": 9,
   "metadata": {},
   "outputs": [
    {
     "name": "stdout",
     "output_type": "stream",
     "text": [
      "{'8': 0, '4': 1, '5': 2, '9': 3, '7': 4, '6': 5, '1': 6, '2': 7, '0': 8, '3': 9}\n",
      "2\n",
      "1\n",
      "9\n",
      "3\n",
      "17\n"
     ]
    }
   ],
   "source": [
    "#take the inputs\n",
    "\n",
    "digits='8459761203'\n",
    "num='5439'\n",
    "\n",
    "#create a dictionary to set the digit and index\n",
    "\n",
    "digitDict={}\n",
    "for i in range(len(digits)):\n",
    "   digitDict[digits[i]]=i\n",
    "print(digitDict)\n",
    "ans=0\n",
    "index=0\n",
    "for digit in num:\n",
    "\n",
    "   targetIndex=digitDict[digit]\n",
    "   print(targetIndex)\n",
    "\n",
    "   ans+=abs(index-targetIndex)\n",
    "   index=targetIndex\n",
    "\n",
    "print(ans)"
   ]
  },
  {
   "cell_type": "markdown",
   "metadata": {},
   "source": [
    "# Lesson 3 Time Complexity"
   ]
  },
  {
   "cell_type": "markdown",
   "metadata": {},
   "source": [
    "## FrogJmp"
   ]
  },
  {
   "cell_type": "markdown",
   "metadata": {},
   "source": [
    "Example\n",
    "\n",
    "x=10, y=85, d=30\n",
    "\n",
    "after the first jump, at position 10 + 30 = 40\n",
    "after the second jump, at position 10 + 30 + 30 = 70\n",
    "after the third jump, at position 10 + 30 + 30 + 30 = 100"
   ]
  },
  {
   "cell_type": "code",
   "execution_count": 7,
   "metadata": {},
   "outputs": [
    {
     "data": {
      "text/plain": [
       "3"
      ]
     },
     "execution_count": 7,
     "metadata": {},
     "output_type": "execute_result"
    }
   ],
   "source": [
    "def solution (X,Y,D):\n",
    "    import math as m\n",
    "    jumps = m.ceil((Y-X)/D)\n",
    "    \n",
    "    return jumps\n",
    "solution(10,85,30)"
   ]
  },
  {
   "cell_type": "markdown",
   "metadata": {},
   "source": [
    "## PermMissingElem"
   ]
  },
  {
   "cell_type": "markdown",
   "metadata": {},
   "source": [
    "For example, given array A such that:\n",
    "\n",
    "  A[0] = 2\n",
    "  A[1] = 3\n",
    "  A[2] = 1\n",
    "  A[3] = 5\n",
    "the function should return 4, as it is the missing element."
   ]
  },
  {
   "cell_type": "code",
   "execution_count": 132,
   "metadata": {},
   "outputs": [
    {
     "data": {
      "text/plain": [
       "6"
      ]
     },
     "execution_count": 132,
     "metadata": {},
     "output_type": "execute_result"
    }
   ],
   "source": [
    "# Implementación\n",
    "def solution(A):\n",
    "    if len(A) == 0:\n",
    "        return 1\n",
    "    elif len(A)==1:\n",
    "        if A[0] ==1:\n",
    "            return A[0]+1\n",
    "        if A[0]==2:\n",
    "            return A[0]-1\n",
    "\n",
    "    else:\n",
    "        # Implement your solution here\n",
    "        A=set(A)\n",
    "        A=list(A)\n",
    "        A=sorted(A.copy())\n",
    "        B=A.copy() \n",
    "        B.pop(-1)\n",
    "        B.insert(0,0)\n",
    "        aux = [a - b for a, b in zip(A, B)]\n",
    "        for i in range(len(aux)): \n",
    "            if aux[i] ==2:\n",
    "                aux2=A[i]-1\n",
    "                return aux2\n",
    "            elif i==len(aux)-1:\n",
    "                return A[-1]+1\n",
    "solution([2, 3, 1,4, 5])"
   ]
  },
  {
   "cell_type": "markdown",
   "metadata": {},
   "source": [
    "# Algoritmo Código Morse"
   ]
  },
  {
   "cell_type": "code",
   "execution_count": 10,
   "metadata": {},
   "outputs": [
    {
     "data": {
      "text/plain": [
       "['--..', '.--.', '..--']"
      ]
     },
     "execution_count": 10,
     "metadata": {},
     "output_type": "execute_result"
    }
   ],
   "source": [
    "def solution(a):\n",
    "    lista = []\n",
    "    for i in range(len(a)-1):\n",
    "        if a[i] == a[i+1] and a[i] =='.':\n",
    "            #print(i)\n",
    "            lista.append(a[:i]+ '--' + a[i+2:])\n",
    "            #print(a[:i]+ '--' + a[i+2:])\n",
    "    return lista\n",
    "    \n",
    "solution('....')"
   ]
  },
  {
   "cell_type": "code",
   "execution_count": null,
   "metadata": {},
   "outputs": [],
   "source": []
  }
 ],
 "metadata": {
  "kernelspec": {
   "display_name": "Python 3",
   "language": "python",
   "name": "python3"
  },
  "language_info": {
   "codemirror_mode": {
    "name": "ipython",
    "version": 3
   },
   "file_extension": ".py",
   "mimetype": "text/x-python",
   "name": "python",
   "nbconvert_exporter": "python",
   "pygments_lexer": "ipython3",
   "version": "3.11.1"
  }
 },
 "nbformat": 4,
 "nbformat_minor": 2
}
